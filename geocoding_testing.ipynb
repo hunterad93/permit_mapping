{
 "cells": [
  {
   "cell_type": "code",
   "execution_count": 8,
   "metadata": {},
   "outputs": [
    {
     "name": "stdout",
     "output_type": "stream",
     "text": [
      "Geocoded coordinates: (46.86246845, -113.98361330223346)\n"
     ]
    }
   ],
   "source": [
    "import random\n",
    "from geopy.geocoders import Nominatim\n",
    "\n",
    "# Initialize the geocoder\n",
    "# Initialize the geocoder with a longer timeout\n",
    "geolocator = Nominatim(user_agent=\"geoapiTest\", timeout=10)\n",
    "\n",
    "# Geocode the address\n",
    "location = geolocator.geocode('920 VAN BUREN ST, MISSOULA, MT')\n",
    "\n",
    "print(f\"Geocoded coordinates: ({location.latitude}, {location.longitude})\")"
   ]
  }
 ],
 "metadata": {
  "kernelspec": {
   "display_name": "planet_env",
   "language": "python",
   "name": "python3"
  },
  "language_info": {
   "codemirror_mode": {
    "name": "ipython",
    "version": 3
   },
   "file_extension": ".py",
   "mimetype": "text/x-python",
   "name": "python",
   "nbconvert_exporter": "python",
   "pygments_lexer": "ipython3",
   "version": "3.11.0"
  }
 },
 "nbformat": 4,
 "nbformat_minor": 2
}
